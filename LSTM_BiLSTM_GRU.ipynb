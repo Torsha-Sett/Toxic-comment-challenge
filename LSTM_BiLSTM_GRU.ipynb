{
  "metadata": {
    "kernelspec": {
      "language": "python",
      "display_name": "Python 3",
      "name": "python3"
    },
    "language_info": {
      "name": "python",
      "version": "3.7.12",
      "mimetype": "text/x-python",
      "codemirror_mode": {
        "name": "ipython",
        "version": 3
      },
      "pygments_lexer": "ipython3",
      "nbconvert_exporter": "python",
      "file_extension": ".py"
    },
    "colab": {
      "name": "LSTM_BiLSTM_GRU.ipynb",
      "provenance": [],
      "collapsed_sections": [],
      "include_colab_link": true
    }
  },
  "nbformat_minor": 0,
  "nbformat": 4,
  "cells": [
    {
      "cell_type": "markdown",
      "metadata": {
        "id": "view-in-github",
        "colab_type": "text"
      },
      "source": [
        "<a href=\"https://colab.research.google.com/github/Torsha-Sett/Toxic-comment-challenge/blob/main/LSTM_BiLSTM_GRU.ipynb\" target=\"_parent\"><img src=\"https://colab.research.google.com/assets/colab-badge.svg\" alt=\"Open In Colab\"/></a>"
      ]
    },
    {
      "cell_type": "code",
      "source": [
        "# This Python 3 environment comes with many helpful analytics libraries installed\n",
        "# It is defined by the kaggle/python Docker image: https://github.com/kaggle/docker-python\n",
        "# For example, here's several helpful packages to load\n",
        "\n",
        "import numpy as np # linear algebra\n",
        "import pandas as pd # data processing, CSV file I/O (e.g. pd.read_csv)\n",
        "\n",
        "# Input data files are available in the read-only \"../input/\" directory\n",
        "# For example, running this (by clicking run or pressing Shift+Enter) will list all files under the input directory\n",
        "\n",
        "import os\n",
        "for dirname, _, filenames in os.walk('/kaggle/input'):\n",
        "    for filename in filenames:\n",
        "        print(os.path.join(dirname, filename))\n",
        "\n",
        "# You can write up to 20GB to the current directory (/kaggle/working/) that gets preserved as output when you create a version using \"Save & Run All\" \n",
        "# You can also write temporary files to /kaggle/temp/, but they won't be saved outside of the current session"
      ],
      "metadata": {
        "_uuid": "8f2839f25d086af736a60e9eeb907d3b93b6e0e5",
        "_cell_guid": "b1076dfc-b9ad-4769-8c92-a6c4dae69d19",
        "execution": {
          "iopub.status.busy": "2022-07-15T15:39:28.038073Z",
          "iopub.execute_input": "2022-07-15T15:39:28.038683Z",
          "iopub.status.idle": "2022-07-15T15:39:28.046469Z",
          "shell.execute_reply.started": "2022-07-15T15:39:28.038645Z",
          "shell.execute_reply": "2022-07-15T15:39:28.045461Z"
        },
        "trusted": true,
        "id": "s8qeKx73Kud9",
        "outputId": "ef96296b-c589-4082-cb6b-6cdf04fcadc6"
      },
      "execution_count": null,
      "outputs": [
        {
          "name": "stdout",
          "text": "/kaggle/input/jigsaw-toxic-comment-classification-challenge/train.csv.zip\n/kaggle/input/jigsaw-toxic-comment-classification-challenge/sample_submission.csv.zip\n/kaggle/input/jigsaw-toxic-comment-classification-challenge/test_labels.csv.zip\n/kaggle/input/jigsaw-toxic-comment-classification-challenge/test.csv.zip\n",
          "output_type": "stream"
        }
      ]
    },
    {
      "cell_type": "code",
      "source": [
        "import numpy as np\n",
        "import pandas as pd\n",
        "import seaborn as sns\n",
        "from matplotlib import pyplot as plt\n",
        "\n",
        "import nltk\n",
        "from nltk.stem.porter import PorterStemmer\n",
        "from nltk.stem import WordNetLemmatizer\n",
        "from nltk.tokenize import word_tokenize\n",
        "\n",
        "from nltk.corpus import stopwords\n",
        "nltk.download('stopwords')\n",
        "stop_words = stopwords.words('english')\n",
        "import html\n",
        "import unicodedata\n",
        "\n",
        "import spacy\n",
        "import pandas as pd\n",
        "import numpy as np\n",
        "from tqdm.auto import tqdm\n",
        "import re\n",
        "import string\n",
        "\n",
        "import seaborn as sns\n",
        "import matplotlib.pyplot as plt\n",
        "\n",
        "\n",
        "from tensorflow.keras.preprocessing.text import text_to_word_sequence\n",
        "from tensorflow.keras.preprocessing.text import Tokenizer  \n",
        "from tensorflow.keras.preprocessing.sequence import pad_sequences\n",
        "from tensorflow.keras import models\n",
        "from tensorflow.keras import layers\n",
        "from tensorflow.keras import losses\n",
        "from tensorflow.keras import metrics\n",
        "from tensorflow.keras import optimizers\n",
        "from tensorflow.keras.utils import plot_model\n",
        "\n",
        "\n"
      ],
      "metadata": {
        "execution": {
          "iopub.status.busy": "2022-07-15T15:39:28.076453Z",
          "iopub.execute_input": "2022-07-15T15:39:28.078331Z",
          "iopub.status.idle": "2022-07-15T15:39:28.089898Z",
          "shell.execute_reply.started": "2022-07-15T15:39:28.078303Z",
          "shell.execute_reply": "2022-07-15T15:39:28.089034Z"
        },
        "trusted": true,
        "id": "krFamT1QKueC",
        "outputId": "135f5cf3-b33d-4623-eb66-a1e9ce048539"
      },
      "execution_count": null,
      "outputs": [
        {
          "name": "stdout",
          "text": "[nltk_data] Downloading package stopwords to /usr/share/nltk_data...\n[nltk_data]   Package stopwords is already up-to-date!\n",
          "output_type": "stream"
        }
      ]
    },
    {
      "cell_type": "code",
      "source": [
        "# load data\n",
        "train = pd.read_csv('../input/jigsaw-toxic-comment-classification-challenge/train.csv.zip')\n",
        "test = pd.read_csv('../input/jigsaw-toxic-comment-classification-challenge/test.csv.zip')\n"
      ],
      "metadata": {
        "execution": {
          "iopub.status.busy": "2022-07-15T15:39:28.106608Z",
          "iopub.execute_input": "2022-07-15T15:39:28.107179Z",
          "iopub.status.idle": "2022-07-15T15:39:30.533527Z",
          "shell.execute_reply.started": "2022-07-15T15:39:28.107144Z",
          "shell.execute_reply": "2022-07-15T15:39:30.532558Z"
        },
        "trusted": true,
        "id": "xS88BGmNKueE"
      },
      "execution_count": null,
      "outputs": []
    },
    {
      "cell_type": "code",
      "source": [
        "#sample text to visualize\n",
        "train.sample(1)['comment_text'].values[0]\n"
      ],
      "metadata": {
        "execution": {
          "iopub.status.busy": "2022-07-15T15:39:30.536997Z",
          "iopub.execute_input": "2022-07-15T15:39:30.537356Z",
          "iopub.status.idle": "2022-07-15T15:39:30.549705Z",
          "shell.execute_reply.started": "2022-07-15T15:39:30.537329Z",
          "shell.execute_reply": "2022-07-15T15:39:30.548868Z"
        },
        "trusted": true,
        "id": "HRfJZ6bIKueF",
        "outputId": "bedd6c68-62b6-423e-f5d2-17a5ff8a3d3a"
      },
      "execution_count": null,
      "outputs": [
        {
          "execution_count": 34,
          "output_type": "execute_result",
          "data": {
            "text/plain": "\"Winamp sound very Windows to me; what't the Mac version? I'd like to hear the excerpts before we decide what is retained, and where. Compression sounds as though it could solve some problems.\""
          },
          "metadata": {}
        }
      ]
    },
    {
      "cell_type": "code",
      "source": [
        "sentence_lengths = [len(sentence) for sentence in train['comment_text']]\n",
        "plt.hist(sentence_lengths,500)\n",
        "plt.xlabel('Length of comments')\n",
        "plt.show()\n"
      ],
      "metadata": {
        "execution": {
          "iopub.status.busy": "2022-07-15T15:39:30.551160Z",
          "iopub.execute_input": "2022-07-15T15:39:30.551707Z",
          "iopub.status.idle": "2022-07-15T15:39:32.170376Z",
          "shell.execute_reply.started": "2022-07-15T15:39:30.551671Z",
          "shell.execute_reply": "2022-07-15T15:39:32.169489Z"
        },
        "trusted": true,
        "id": "_Z47CCYmKueF",
        "outputId": "bbf23280-ec8c-44d7-aadf-785a9e2acf1f"
      },
      "execution_count": null,
      "outputs": [
        {
          "output_type": "display_data",
          "data": {
            "text/plain": "<Figure size 432x288 with 1 Axes>",
            "image/png": "[encoded data removed]"
          },
          "metadata": {
            "needs_background": "light"
          }
        }
      ]
    },
    {
      "cell_type": "code",
      "source": [
        "feature = train.drop(['id', 'comment_text'], axis=1)     ### Removed unnecessary columns - id and comment_text\n",
        "counts = []                                               ### A list that contains tuple which consists of class label and number of comments for that particular class \n",
        "categories = list(feature.columns.values)\n",
        "for i in categories:\n",
        "    counts.append((i, feature[i].sum()))\n",
        "    \n",
        "df_1 = pd.DataFrame(counts, columns=['Feature Labels', 'Total Comments'])   ### Dataframe made up of category and total number of comments\n",
        "df_1.plot(x='Feature Labels', y='Total Comments', kind='bar',figsize=(8,8))\n",
        "plt.title(\"Comments per category\")\n",
        "plt.ylabel('Total comments', fontsize=12)\n",
        "plt.xlabel('Feature Labels', fontsize=12)"
      ],
      "metadata": {
        "execution": {
          "iopub.status.busy": "2022-07-15T15:39:32.173559Z",
          "iopub.execute_input": "2022-07-15T15:39:32.173941Z",
          "iopub.status.idle": "2022-07-15T15:39:32.387072Z",
          "shell.execute_reply.started": "2022-07-15T15:39:32.173902Z",
          "shell.execute_reply": "2022-07-15T15:39:32.386103Z"
        },
        "trusted": true,
        "id": "OsFTMpiaKueG",
        "outputId": "28ea8729-1ad7-4ac7-bcd4-91677f8f3cb7"
      },
      "execution_count": null,
      "outputs": [
        {
          "execution_count": 36,
          "output_type": "execute_result",
          "data": {
            "text/plain": "Text(0.5, 0, 'Feature Labels')"
          },
          "metadata": {}
        },
        {
          "output_type": "display_data",
          "data": {
            "text/plain": "<Figure size 576x576 with 1 Axes>",
            "image/png": "[encoded data removed]"
          },
          "metadata": {
            "needs_background": "light"
          }
        }
      ]
    },
    {
      "cell_type": "markdown",
      "source": [
        "## Text preprocessing\n"
      ],
      "metadata": {
        "id": "P03H_Ei6KueG"
      }
    },
    {
      "cell_type": "code",
      "source": [
        "import string\n",
        "\n",
        "def remove_special_chars(text):\n",
        "    re1 = re.compile(r'  +')\n",
        "    x1 = text.lower().replace('#39;', \"'\").replace('amp;', '&').replace('#146;', \"'\").replace(\n",
        "        'nbsp;', ' ').replace('#36;', '$').replace('\\\\n', \"\\n\").replace('quot;', \"'\").replace(\n",
        "        '<br />', \"\\n\").replace('\\\\\"', '\"').replace('<unk>', 'u_n').replace(' @.@ ', '.').replace(\n",
        "        ' @-@ ', '-').replace('\\\\', ' \\\\ ')\n",
        "    return re1.sub(' ', html.unescape(x1))\n",
        "\n",
        "\n",
        "def to_lowercase(text):\n",
        "    return text.lower()\n",
        "\n",
        "\n",
        "\n",
        "def remove_punctuation(text):\n",
        "    \"\"\"Remove punctuation from list of tokenized words\"\"\"\n",
        "    translator = str.maketrans('', '', string.punctuation)\n",
        "    return text.translate(translator)\n",
        "\n",
        "\n",
        "def replace_numbers(text):\n",
        "    \"\"\"Replace all interger occurrences in list of tokenized words with textual representation\"\"\"\n",
        "    return re.sub(r'\\d+', '', text)\n",
        "\n",
        "\n",
        "def remove_whitespaces(text):\n",
        "    return text.strip()\n",
        "\n",
        "\n",
        "def remove_stopwords(words, stop_words):\n",
        "    \"\"\"\n",
        "    :param words:\n",
        "    :type words:\n",
        "    :param stop_words: from sklearn.feature_extraction.stop_words import ENGLISH_STOP_WORDS\n",
        "    or\n",
        "    from spacy.lang.en.stop_words import STOP_WORDS\n",
        "    :type stop_words:\n",
        "    :return:\n",
        "    :rtype:\n",
        "    \"\"\"\n",
        "    return [word for word in words if word not in stop_words]\n",
        "\n",
        "\n",
        "def stem_words(words):\n",
        "    \"\"\"Stem words in text\"\"\"\n",
        "    stemmer = PorterStemmer()\n",
        "    return [stemmer.stem(word) for word in words]\n",
        "\n",
        "def lemmatize_words(words):\n",
        "    \"\"\"Lemmatize words in text\"\"\"\n",
        "\n",
        "    lemmatizer = WordNetLemmatizer()\n",
        "    return [lemmatizer.lemmatize(word) for word in words]\n",
        "\n",
        "def lemmatize_verbs(words):\n",
        "    \"\"\"Lemmatize verbs in text\"\"\"\n",
        "\n",
        "    lemmatizer = WordNetLemmatizer()\n",
        "    return ' '.join([lemmatizer.lemmatize(word, pos='v') for word in words])\n",
        "\n",
        "def text2words(text):\n",
        "    return word_tokenize(text)\n",
        "\n",
        "def clean_text( text):\n",
        "    text = remove_special_chars(text)\n",
        "    text = remove_punctuation(text)\n",
        "    text = to_lowercase(text)\n",
        "    text = replace_numbers(text)\n",
        "    words = text2words(text)\n",
        "    words = remove_stopwords(words, stop_words)\n",
        "    #words = stem_words(words)# Either stem ovocar lemmatize\n",
        "    words = lemmatize_words(words)\n",
        "    words = lemmatize_verbs(words)\n",
        "\n",
        "    return ''.join(words)\n",
        "\n",
        "train['comment_text'] = train['comment_text'].apply(lambda x: clean_text(x))\n",
        "train.sample(1)['comment_text'].values[0]\n"
      ],
      "metadata": {
        "execution": {
          "iopub.status.busy": "2022-07-15T15:39:32.388870Z",
          "iopub.execute_input": "2022-07-15T15:39:32.389281Z",
          "iopub.status.idle": "2022-07-15T15:42:19.852652Z",
          "shell.execute_reply.started": "2022-07-15T15:39:32.389241Z",
          "shell.execute_reply": "2022-07-15T15:42:19.851572Z"
        },
        "trusted": true,
        "id": "nu0hrwpmKueI",
        "outputId": "1ad7f3a6-e07e-4ea1-95d4-5ea23203fda3"
      },
      "execution_count": null,
      "outputs": [
        {
          "execution_count": 37,
          "output_type": "execute_result",
          "data": {
            "text/plain": "'yet remain confusion mention sac withdraw bergstrom deactivate consolidate use show consolidation unit long ago deactivate presumably consolidate deactivation time unite nothing present intro give one overall understand history'"
          },
          "metadata": {}
        }
      ]
    },
    {
      "cell_type": "code",
      "source": [
        "test['comment_text'] = test['comment_text'].apply(lambda x: clean_text(x))\n"
      ],
      "metadata": {
        "execution": {
          "iopub.status.busy": "2022-07-15T15:42:19.854052Z",
          "iopub.execute_input": "2022-07-15T15:42:19.854520Z",
          "iopub.status.idle": "2022-07-15T15:44:48.546031Z",
          "shell.execute_reply.started": "2022-07-15T15:42:19.854483Z",
          "shell.execute_reply": "2022-07-15T15:44:48.545109Z"
        },
        "trusted": true,
        "id": "RpGGLt6gKueK"
      },
      "execution_count": null,
      "outputs": []
    },
    {
      "cell_type": "markdown",
      "source": [
        "## BoW "
      ],
      "metadata": {
        "id": "617l1KmdKueL"
      }
    },
    {
      "cell_type": "code",
      "source": [
        "tok = Tokenizer(num_words=1000, oov_token='UNK')\n",
        "tok.fit_on_texts(train['comment_text'] )\n",
        "# Extract binary BoW features\n",
        "x_train = tok.texts_to_sequences(train['comment_text'])\n",
        "x_test = tok.texts_to_sequences(test['comment_text'])\n",
        "\n",
        "vocab_size = len(tok.word_index) + 1\n",
        "vocab_size"
      ],
      "metadata": {
        "execution": {
          "iopub.status.busy": "2022-07-15T15:44:48.547903Z",
          "iopub.execute_input": "2022-07-15T15:44:48.548281Z",
          "iopub.status.idle": "2022-07-15T15:45:04.480403Z",
          "shell.execute_reply.started": "2022-07-15T15:44:48.548247Z",
          "shell.execute_reply": "2022-07-15T15:45:04.479326Z"
        },
        "trusted": true,
        "id": "BrSC9goJKueL",
        "outputId": "7f4813f1-750c-4761-f41b-6def122868ae"
      },
      "execution_count": null,
      "outputs": [
        {
          "execution_count": 39,
          "output_type": "execute_result",
          "data": {
            "text/plain": "208776"
          },
          "metadata": {}
        }
      ]
    },
    {
      "cell_type": "markdown",
      "source": [
        "## LSTM"
      ],
      "metadata": {
        "id": "K8gLZfOUKueL"
      }
    },
    {
      "cell_type": "code",
      "source": [
        "maxlen = max([len(t) for t in x_train])\n",
        "maxlen\n"
      ],
      "metadata": {
        "execution": {
          "iopub.status.busy": "2022-07-15T15:45:04.482016Z",
          "iopub.execute_input": "2022-07-15T15:45:04.482400Z",
          "iopub.status.idle": "2022-07-15T15:45:04.506971Z",
          "shell.execute_reply.started": "2022-07-15T15:45:04.482365Z",
          "shell.execute_reply": "2022-07-15T15:45:04.506122Z"
        },
        "trusted": true,
        "id": "AFD8_HvlKueM",
        "outputId": "09ee0938-7906-4363-df32-df4740893cfe"
      },
      "execution_count": null,
      "outputs": [
        {
          "execution_count": 40,
          "output_type": "execute_result",
          "data": {
            "text/plain": "1250"
          },
          "metadata": {}
        }
      ]
    },
    {
      "cell_type": "code",
      "source": [
        "training_padded = pad_sequences(x_train,\n",
        "                                maxlen=50, \n",
        "                                truncating='post', \n",
        "                                padding='post'\n",
        "                               )\n",
        "test_padded = pad_sequences(x_test,\n",
        "                            maxlen=50, \n",
        "                            truncating='post', \n",
        "                            padding='post'\n",
        "                               )\n",
        "\n"
      ],
      "metadata": {
        "execution": {
          "iopub.status.busy": "2022-07-15T15:45:04.508233Z",
          "iopub.execute_input": "2022-07-15T15:45:04.508665Z",
          "iopub.status.idle": "2022-07-15T15:45:05.998529Z",
          "shell.execute_reply.started": "2022-07-15T15:45:04.508629Z",
          "shell.execute_reply": "2022-07-15T15:45:05.997539Z"
        },
        "trusted": true,
        "id": "cmgirkq6KueM"
      },
      "execution_count": null,
      "outputs": []
    },
    {
      "cell_type": "code",
      "source": [
        "\n",
        "\n",
        "model = models.Sequential()\n",
        "model.add(layers.Embedding(vocab_size, 128, input_length=50))\n",
        "model.add(layers.LSTM(512, dropout=0.2, recurrent_dropout=0.2, return_sequences=True))\n",
        "model.add(layers.LSTM(128, dropout=0.2,recurrent_dropout=0.2))\n",
        "model.add(layers.Dense(16, activation='relu'))\n",
        "model.add(layers.Dense(6, activation='sigmoid'))\n",
        "\n",
        "\n",
        "\n",
        "model.compile(\n",
        "    loss='binary_crossentropy',\n",
        "    optimizer='Adamax',\n",
        "    metrics=['accuracy'])\n",
        "\n",
        "model.summary()"
      ],
      "metadata": {
        "execution": {
          "iopub.status.busy": "2022-07-15T15:45:06.002698Z",
          "iopub.execute_input": "2022-07-15T15:45:06.002982Z",
          "iopub.status.idle": "2022-07-15T15:45:06.353451Z",
          "shell.execute_reply.started": "2022-07-15T15:45:06.002957Z",
          "shell.execute_reply": "2022-07-15T15:45:06.352457Z"
        },
        "trusted": true,
        "id": "qSZ3Qw6sKueN",
        "outputId": "7b3063a2-3883-4806-9fea-c4951f74ba85"
      },
      "execution_count": null,
      "outputs": [
        {
          "name": "stdout",
          "text": "Model: \"sequential_2\"\n_________________________________________________________________\nLayer (type)                 Output Shape              Param #   \n=================================================================\nembedding_2 (Embedding)      (None, 50, 128)           26723328  \n_________________________________________________________________\nlstm_3 (LSTM)                (None, 50, 512)           1312768   \n_________________________________________________________________\nlstm_4 (LSTM)                (None, 128)               328192    \n_________________________________________________________________\ndense_4 (Dense)              (None, 16)                2064      \n_________________________________________________________________\ndense_5 (Dense)              (None, 6)                 102       \n=================================================================\nTotal params: 28,366,454\nTrainable params: 28,366,454\nNon-trainable params: 0\n_________________________________________________________________\n",
          "output_type": "stream"
        }
      ]
    },
    {
      "cell_type": "code",
      "source": [
        "history = model.fit(training_padded,\n",
        "                     train[['toxic' ,'severe_toxic' ,'obscene' ,'threat' ,'insult' ,'identity_hate']],\n",
        "                    epochs=5,\n",
        "                    batch_size=512,\n",
        "                   validation_split=0.2)"
      ],
      "metadata": {
        "execution": {
          "iopub.status.busy": "2022-07-15T15:45:06.354712Z",
          "iopub.execute_input": "2022-07-15T15:45:06.356435Z",
          "iopub.status.idle": "2022-07-15T15:54:32.236910Z",
          "shell.execute_reply.started": "2022-07-15T15:45:06.356395Z",
          "shell.execute_reply": "2022-07-15T15:54:32.235634Z"
        },
        "trusted": true,
        "id": "jHVbYy0hKueN",
        "outputId": "87ae8076-d7cf-4edc-d50c-2e31bc6abd50"
      },
      "execution_count": null,
      "outputs": [
        {
          "name": "stdout",
          "text": "Epoch 1/5\n250/250 [==============================] - 115s 445ms/step - loss: 0.3251 - accuracy: 0.0046 - val_loss: 0.1567 - val_accuracy: 0.0034\nEpoch 2/5\n250/250 [==============================] - 110s 439ms/step - loss: 0.1450 - accuracy: 0.6387 - val_loss: 0.1420 - val_accuracy: 0.9941\nEpoch 3/5\n250/250 [==============================] - 109s 436ms/step - loss: 0.1415 - accuracy: 0.9942 - val_loss: 0.1411 - val_accuracy: 0.9941\nEpoch 4/5\n250/250 [==============================] - 110s 439ms/step - loss: 0.1412 - accuracy: 0.9942 - val_loss: 0.1410 - val_accuracy: 0.9941\nEpoch 5/5\n250/250 [==============================] - 109s 437ms/step - loss: 0.1411 - accuracy: 0.9942 - val_loss: 0.1409 - val_accuracy: 0.9941\n",
          "output_type": "stream"
        }
      ]
    },
    {
      "cell_type": "code",
      "source": [
        "history_dict = history.history\n",
        "history_dict.keys()\n",
        "acc = history.history['accuracy']\n",
        "val_acc = history.history['val_accuracy']\n",
        "loss = history.history['loss']\n",
        "val_loss = history.history['val_loss']\n"
      ],
      "metadata": {
        "execution": {
          "iopub.status.busy": "2022-07-15T15:54:32.238451Z",
          "iopub.execute_input": "2022-07-15T15:54:32.239343Z",
          "iopub.status.idle": "2022-07-15T15:54:32.245630Z",
          "shell.execute_reply.started": "2022-07-15T15:54:32.239296Z",
          "shell.execute_reply": "2022-07-15T15:54:32.244576Z"
        },
        "trusted": true,
        "id": "20ISE9B3KueN"
      },
      "execution_count": null,
      "outputs": []
    },
    {
      "cell_type": "code",
      "source": [
        "\n",
        "epochs = range(1, len(acc) + 1)\n",
        "\n",
        "# \"bo\" is for \"blue dot\"\n",
        "plt.plot(epochs, loss, 'bo', label='Training loss')\n",
        "# b is for \"solid blue line\"\n",
        "plt.plot(epochs, val_loss, 'b', label='Validation loss')\n",
        "plt.title('Training and validation loss')\n",
        "plt.xlabel('Epochs')\n",
        "plt.ylabel('Loss')\n",
        "plt.legend()"
      ],
      "metadata": {
        "execution": {
          "iopub.status.busy": "2022-07-15T15:54:32.247518Z",
          "iopub.execute_input": "2022-07-15T15:54:32.248404Z",
          "iopub.status.idle": "2022-07-15T15:54:32.456817Z",
          "shell.execute_reply.started": "2022-07-15T15:54:32.248367Z",
          "shell.execute_reply": "2022-07-15T15:54:32.455917Z"
        },
        "trusted": true,
        "id": "h6YKLXY1KueO",
        "outputId": "c4931b71-abab-427d-8715-2d8bf5ba1252"
      },
      "execution_count": null,
      "outputs": [
        {
          "execution_count": 45,
          "output_type": "execute_result",
          "data": {
            "text/plain": "<matplotlib.legend.Legend at 0x7f207a122a50>"
          },
          "metadata": {}
        },
        {
          "output_type": "display_data",
          "data": {
            "text/plain": "<Figure size 432x288 with 1 Axes>",
            "image/png": "[encoded data removed]"
          },
          "metadata": {
            "needs_background": "light"
          }
        }
      ]
    },
    {
      "cell_type": "code",
      "source": [
        "\n",
        "plt.plot(epochs, acc, 'bo', label='Training accuracy')\n",
        "plt.plot(epochs, val_acc, 'b', label='Validation accuracy')\n",
        "plt.title('Training and validation accuracy')\n",
        "plt.xlabel('Epochs')\n",
        "plt.ylabel('roc_auc')\n",
        "plt.legend()\n",
        "\n",
        "plt.show()"
      ],
      "metadata": {
        "execution": {
          "iopub.status.busy": "2022-07-15T15:54:32.458018Z",
          "iopub.execute_input": "2022-07-15T15:54:32.458376Z",
          "iopub.status.idle": "2022-07-15T15:54:32.656187Z",
          "shell.execute_reply.started": "2022-07-15T15:54:32.458332Z",
          "shell.execute_reply": "2022-07-15T15:54:32.655183Z"
        },
        "trusted": true,
        "id": "EdD4d3yJKueO",
        "outputId": "6a056ad8-800a-41f3-bac6-e6f333c71e02"
      },
      "execution_count": null,
      "outputs": [
        {
          "output_type": "display_data",
          "data": {
            "text/plain": "<Figure size 432x288 with 1 Axes>",
            "image/png": "[encoded data removed]"
          },
          "metadata": {
            "needs_background": "light"
          }
        }
      ]
    },
    {
      "cell_type": "markdown",
      "source": [
        "## Bidirectional"
      ],
      "metadata": {
        "id": "RuDdcW_aKueO"
      }
    },
    {
      "cell_type": "code",
      "source": [
        "\n",
        "lstm_dim = 32\n",
        "model_bilstm = models.Sequential()\n",
        "model_bilstm.add(layers.Embedding(vocab_size, 512, input_length=50))\n",
        "model_bilstm.add(layers.Bidirectional(layers.LSTM(128, dropout=0.2, recurrent_dropout=0.2, return_sequences=True)))\n",
        "model_bilstm.add(layers.Flatten())\n",
        "model_bilstm.add(layers.Dense(16, activation='relu'))\n",
        "model_bilstm.add(layers.Dense(6, activation='sigmoid'))\n",
        "\n",
        "\n",
        "model_bilstm.compile(loss='binary_crossentropy',optimizer='adam',metrics=['accuracy'])\n",
        "\n",
        "# Print the model summary\n",
        "model_bilstm.summary()\n",
        "\n",
        "history = model_bilstm.fit(training_padded,\n",
        "                     train[['toxic' ,'severe_toxic' ,'obscene' ,'threat' ,'insult' ,'identity_hate']],\n",
        "                    epochs=5,\n",
        "                    batch_size=512,\n",
        "                   validation_split=0.2)"
      ],
      "metadata": {
        "execution": {
          "iopub.status.busy": "2022-07-15T15:54:32.657489Z",
          "iopub.execute_input": "2022-07-15T15:54:32.657819Z",
          "iopub.status.idle": "2022-07-15T16:04:59.153977Z",
          "shell.execute_reply.started": "2022-07-15T15:54:32.657784Z",
          "shell.execute_reply": "2022-07-15T16:04:59.152961Z"
        },
        "trusted": true,
        "id": "MBh4Y0xAKueO",
        "outputId": "3e19e8d6-1374-4e4c-fd6e-21065b7b70fb"
      },
      "execution_count": null,
      "outputs": [
        {
          "name": "stdout",
          "text": "Model: \"sequential_3\"\n_________________________________________________________________\nLayer (type)                 Output Shape              Param #   \n=================================================================\nembedding_3 (Embedding)      (None, 50, 512)           106893312 \n_________________________________________________________________\nbidirectional_1 (Bidirection (None, 50, 256)           656384    \n_________________________________________________________________\nflatten_1 (Flatten)          (None, 12800)             0         \n_________________________________________________________________\ndense_6 (Dense)              (None, 16)                204816    \n_________________________________________________________________\ndense_7 (Dense)              (None, 6)                 102       \n=================================================================\nTotal params: 107,754,614\nTrainable params: 107,754,614\nNon-trainable params: 0\n_________________________________________________________________\nEpoch 1/5\n250/250 [==============================] - 118s 459ms/step - loss: 0.0926 - accuracy: 0.9457 - val_loss: 0.0643 - val_accuracy: 0.9940\nEpoch 2/5\n250/250 [==============================] - 113s 452ms/step - loss: 0.0626 - accuracy: 0.9760 - val_loss: 0.0620 - val_accuracy: 0.9934\nEpoch 3/5\n250/250 [==============================] - 114s 455ms/step - loss: 0.0599 - accuracy: 0.9755 - val_loss: 0.0607 - val_accuracy: 0.9836\nEpoch 4/5\n250/250 [==============================] - 114s 457ms/step - loss: 0.0577 - accuracy: 0.9785 - val_loss: 0.0612 - val_accuracy: 0.9117\nEpoch 5/5\n250/250 [==============================] - 115s 458ms/step - loss: 0.0556 - accuracy: 0.9667 - val_loss: 0.0603 - val_accuracy: 0.9902\n",
          "output_type": "stream"
        }
      ]
    },
    {
      "cell_type": "code",
      "source": [
        "history_dict = history.history\n",
        "history_dict.keys()\n",
        "acc = history.history['accuracy']\n",
        "val_acc = history.history['val_accuracy']\n",
        "loss = history.history['loss']\n",
        "val_loss = history.history['val_loss']"
      ],
      "metadata": {
        "execution": {
          "iopub.status.busy": "2022-07-15T16:04:59.155682Z",
          "iopub.execute_input": "2022-07-15T16:04:59.156531Z",
          "iopub.status.idle": "2022-07-15T16:04:59.163920Z",
          "shell.execute_reply.started": "2022-07-15T16:04:59.156489Z",
          "shell.execute_reply": "2022-07-15T16:04:59.162900Z"
        },
        "trusted": true,
        "id": "_tDoDlv1KueP"
      },
      "execution_count": null,
      "outputs": []
    },
    {
      "cell_type": "code",
      "source": [
        "epochs = range(1, len(acc) + 1)\n",
        "\n",
        "# \"bo\" is for \"blue dot\"\n",
        "plt.plot(epochs, loss, 'bo', label='Training loss')\n",
        "# b is for \"solid blue line\"\n",
        "plt.plot(epochs, val_loss, 'b', label='Validation loss')\n",
        "plt.title('Training and validation loss')\n",
        "plt.xlabel('Epochs')\n",
        "plt.ylabel('Loss')\n",
        "plt.legend()"
      ],
      "metadata": {
        "execution": {
          "iopub.status.busy": "2022-07-15T16:04:59.165181Z",
          "iopub.execute_input": "2022-07-15T16:04:59.165619Z",
          "iopub.status.idle": "2022-07-15T16:04:59.371971Z",
          "shell.execute_reply.started": "2022-07-15T16:04:59.165584Z",
          "shell.execute_reply": "2022-07-15T16:04:59.371075Z"
        },
        "trusted": true,
        "id": "ydCfDMvOKueP",
        "outputId": "f4169089-4a3f-401d-9ae7-86b1e75f3ed8"
      },
      "execution_count": null,
      "outputs": [
        {
          "execution_count": 49,
          "output_type": "execute_result",
          "data": {
            "text/plain": "<matplotlib.legend.Legend at 0x7f2077bdd390>"
          },
          "metadata": {}
        },
        {
          "output_type": "display_data",
          "data": {
            "text/plain": "<Figure size 432x288 with 1 Axes>",
            "image/png": "[encoded data removed]"
          },
          "metadata": {
            "needs_background": "light"
          }
        }
      ]
    },
    {
      "cell_type": "code",
      "source": [
        "plt.plot(epochs, acc, 'bo', label='Training auc')\n",
        "plt.plot(epochs, val_acc, 'b', label='Validation auc')\n",
        "plt.title('Training and validation accuracy')\n",
        "plt.xlabel('Epochs')\n",
        "plt.ylabel('roc_auc')\n",
        "plt.legend()\n",
        "\n",
        "plt.show()"
      ],
      "metadata": {
        "execution": {
          "iopub.status.busy": "2022-07-15T16:04:59.373225Z",
          "iopub.execute_input": "2022-07-15T16:04:59.374166Z",
          "iopub.status.idle": "2022-07-15T16:04:59.565289Z",
          "shell.execute_reply.started": "2022-07-15T16:04:59.374128Z",
          "shell.execute_reply": "2022-07-15T16:04:59.564379Z"
        },
        "trusted": true,
        "id": "h4DSJHT5KueP",
        "outputId": "19bd7087-ba05-417b-bcf9-39b57e43bf36"
      },
      "execution_count": null,
      "outputs": [
        {
          "output_type": "display_data",
          "data": {
            "text/plain": "<Figure size 432x288 with 1 Axes>",
            "image/png": "[encoded data removed]"
          },
          "metadata": {
            "needs_background": "light"
          }
        }
      ]
    },
    {
      "cell_type": "markdown",
      "source": [
        "## GRU"
      ],
      "metadata": {
        "id": "ssisfz4YKueQ"
      }
    },
    {
      "cell_type": "code",
      "source": [
        "\n",
        "model_gru = models.Sequential()\n",
        "model_gru.add(layers.Embedding(1000, 20, input_length=maxlen))\n",
        "model_gru.add(layers.Bidirectional(layers.GRU(64)))\n",
        "model_gru.add(layers.Flatten())\n",
        "model_gru.add(layers.Dense(6, activation='sigmoid'))\n",
        "\n",
        "# Set the training parameters\n",
        "model_gru.compile(loss='binary_crossentropy',optimizer='adam',metrics=['accuracy'])\n",
        "\n",
        "# Print the model summary\n",
        "model_gru.summary()\n",
        "\n",
        "\n",
        "history = model_gru.fit(training_padded,\n",
        "                     train[['toxic' ,'severe_toxic' ,'obscene' ,'threat' ,'insult' ,'identity_hate']],\n",
        "                    epochs=5,\n",
        "                    batch_size=128,\n",
        "                   validation_split=0.2)"
      ],
      "metadata": {
        "execution": {
          "iopub.status.busy": "2022-07-15T16:04:59.567217Z",
          "iopub.execute_input": "2022-07-15T16:04:59.567873Z",
          "iopub.status.idle": "2022-07-15T16:05:46.729144Z",
          "shell.execute_reply.started": "2022-07-15T16:04:59.567836Z",
          "shell.execute_reply": "2022-07-15T16:05:46.728253Z"
        },
        "trusted": true,
        "id": "tQU5EmpTKueQ",
        "outputId": "e5bc400b-9cb4-41e3-ac62-827785f076ec"
      },
      "execution_count": null,
      "outputs": [
        {
          "name": "stdout",
          "text": "Model: \"sequential_4\"\n_________________________________________________________________\nLayer (type)                 Output Shape              Param #   \n=================================================================\nembedding_4 (Embedding)      (None, 1250, 20)          20000     \n_________________________________________________________________\nbidirectional_2 (Bidirection (None, 128)               33024     \n_________________________________________________________________\nflatten_2 (Flatten)          (None, 128)               0         \n_________________________________________________________________\ndense_8 (Dense)              (None, 6)                 774       \n=================================================================\nTotal params: 53,798\nTrainable params: 53,798\nNon-trainable params: 0\n_________________________________________________________________\nEpoch 1/5\n",
          "output_type": "stream"
        },
        {
          "name": "stderr",
          "text": "2022-07-15 16:05:03.147385: I tensorflow/stream_executor/cuda/cuda_dnn.cc:369] Loaded cuDNN version 8005\n",
          "output_type": "stream"
        },
        {
          "name": "stdout",
          "text": "998/998 [==============================] - 13s 9ms/step - loss: 0.0911 - accuracy: 0.9555 - val_loss: 0.0652 - val_accuracy: 0.9941\nEpoch 2/5\n998/998 [==============================] - 8s 8ms/step - loss: 0.0636 - accuracy: 0.9942 - val_loss: 0.0642 - val_accuracy: 0.9941\nEpoch 3/5\n998/998 [==============================] - 8s 8ms/step - loss: 0.0616 - accuracy: 0.9942 - val_loss: 0.0621 - val_accuracy: 0.9941\nEpoch 4/5\n998/998 [==============================] - 9s 9ms/step - loss: 0.0605 - accuracy: 0.9942 - val_loss: 0.0622 - val_accuracy: 0.9941\nEpoch 5/5\n998/998 [==============================] - 9s 9ms/step - loss: 0.0595 - accuracy: 0.9941 - val_loss: 0.0614 - val_accuracy: 0.9935\n",
          "output_type": "stream"
        }
      ]
    },
    {
      "cell_type": "code",
      "source": [
        "history_dict = history.history\n",
        "history_dict.keys()\n",
        "acc = history.history['accuracy']\n",
        "val_acc = history.history['val_accuracy']\n",
        "loss = history.history['loss']\n",
        "val_loss = history.history['val_loss']"
      ],
      "metadata": {
        "execution": {
          "iopub.status.busy": "2022-07-15T16:05:46.730906Z",
          "iopub.execute_input": "2022-07-15T16:05:46.731267Z",
          "iopub.status.idle": "2022-07-15T16:05:46.737168Z",
          "shell.execute_reply.started": "2022-07-15T16:05:46.731232Z",
          "shell.execute_reply": "2022-07-15T16:05:46.736133Z"
        },
        "trusted": true,
        "id": "-q6Co5NPKueQ"
      },
      "execution_count": null,
      "outputs": []
    },
    {
      "cell_type": "code",
      "source": [
        "epochs = range(1, len(acc) + 1)\n",
        "\n",
        "# \"bo\" is for \"blue dot\"\n",
        "plt.plot(epochs, loss, 'bo', label='Training loss')\n",
        "# b is for \"solid blue line\"\n",
        "plt.plot(epochs, val_loss, 'b', label='Validation loss')\n",
        "plt.title('Training and validation loss')\n",
        "plt.xlabel('Epochs')\n",
        "plt.ylabel('Loss')\n",
        "plt.legend()"
      ],
      "metadata": {
        "execution": {
          "iopub.status.busy": "2022-07-15T16:05:46.738756Z",
          "iopub.execute_input": "2022-07-15T16:05:46.739237Z",
          "iopub.status.idle": "2022-07-15T16:05:46.945285Z",
          "shell.execute_reply.started": "2022-07-15T16:05:46.739185Z",
          "shell.execute_reply": "2022-07-15T16:05:46.944394Z"
        },
        "trusted": true,
        "id": "xhCHgqYXKueR",
        "outputId": "6590c65f-6ed5-44cb-8b38-119be568dd97"
      },
      "execution_count": null,
      "outputs": [
        {
          "execution_count": 53,
          "output_type": "execute_result",
          "data": {
            "text/plain": "<matplotlib.legend.Legend at 0x7f2071f148d0>"
          },
          "metadata": {}
        },
        {
          "output_type": "display_data",
          "data": {
            "text/plain": "<Figure size 432x288 with 1 Axes>",
            "image/png": "[encoded data removed]"
          },
          "metadata": {
            "needs_background": "light"
          }
        }
      ]
    },
    {
      "cell_type": "code",
      "source": [
        "plt.plot(epochs, acc, 'bo', label='Training auc')\n",
        "plt.plot(epochs, val_acc, 'b', label='Validation auc')\n",
        "plt.title('Training and validation accuracy')\n",
        "plt.xlabel('Epochs')\n",
        "plt.ylabel('roc_auc')\n",
        "plt.legend()\n",
        "\n",
        "plt.show()"
      ],
      "metadata": {
        "execution": {
          "iopub.status.busy": "2022-07-15T16:05:46.946675Z",
          "iopub.execute_input": "2022-07-15T16:05:46.947036Z",
          "iopub.status.idle": "2022-07-15T16:05:47.157038Z",
          "shell.execute_reply.started": "2022-07-15T16:05:46.947000Z",
          "shell.execute_reply": "2022-07-15T16:05:47.156019Z"
        },
        "trusted": true,
        "id": "COKHAJgJKueR",
        "outputId": "27e3c035-00ea-471d-fce3-0a803d563b6b"
      },
      "execution_count": null,
      "outputs": [
        {
          "output_type": "display_data",
          "data": {
            "text/plain": "<Figure size 432x288 with 1 Axes>",
            "image/png": "[encoded data removed]"
          },
          "metadata": {
            "needs_background": "light"
          }
        }
      ]
    },
    {
      "cell_type": "code",
      "source": [
        ""
      ],
      "metadata": {
        "id": "_97dH2RNKueR"
      },
      "execution_count": null,
      "outputs": []
    }
  ]
}